{
  "cells": [
    {
      "cell_type": "markdown",
      "metadata": {
        "id": "cAdkj4POehrz"
      },
      "source": [
        "# Python 入門\n",
        "\n",
        "資料來源：https://github.com/chengchingwen/Python-Introduction"
      ]
    },
    {
      "cell_type": "markdown",
      "metadata": {
        "id": "audnJ8nlehr0"
      },
      "source": [
        "## 基本運算"
      ]
    },
    {
      "cell_type": "code",
      "execution_count": null,
      "metadata": {
        "id": "u_R90wrwehr1",
        "outputId": "a6f56f46-6d29-4f9b-e1f9-18d5f436009a"
      },
      "outputs": [
        {
          "data": {
            "text/plain": [
              "3"
            ]
          },
          "execution_count": 1,
          "metadata": {},
          "output_type": "execute_result"
        }
      ],
      "source": [
        "1+2       # 加法"
      ]
    },
    {
      "cell_type": "code",
      "execution_count": null,
      "metadata": {
        "id": "GnsRQDdPehr2",
        "outputId": "488bc811-bffc-445b-8d4f-7c383c74ea0e"
      },
      "outputs": [
        {
          "data": {
            "text/plain": [
              "-1"
            ]
          },
          "execution_count": 2,
          "metadata": {},
          "output_type": "execute_result"
        }
      ],
      "source": [
        "3-4       # 減法"
      ]
    },
    {
      "cell_type": "code",
      "execution_count": null,
      "metadata": {
        "id": "Rjo-EGtUehr2",
        "outputId": "2017f827-e9e0-4f59-b75c-e1b343ec1dc8"
      },
      "outputs": [
        {
          "data": {
            "text/plain": [
              "30"
            ]
          },
          "execution_count": 3,
          "metadata": {},
          "output_type": "execute_result"
        }
      ],
      "source": [
        "5*6       # 乘法"
      ]
    },
    {
      "cell_type": "code",
      "execution_count": null,
      "metadata": {
        "id": "yyYVxvIdehr2",
        "outputId": "72e064dd-4365-4504-d00c-568934865430"
      },
      "outputs": [
        {
          "data": {
            "text/plain": [
              "0.875"
            ]
          },
          "execution_count": 4,
          "metadata": {},
          "output_type": "execute_result"
        }
      ],
      "source": [
        "7/8       # 除法"
      ]
    },
    {
      "cell_type": "code",
      "execution_count": null,
      "metadata": {
        "id": "jLOAuiVPehr2",
        "outputId": "08e9a9e4-121b-4bb8-e8e4-84f10c5c3636"
      },
      "outputs": [
        {
          "data": {
            "text/plain": [
              "0"
            ]
          },
          "execution_count": 5,
          "metadata": {},
          "output_type": "execute_result"
        }
      ],
      "source": [
        "7//8      # 除法，無條件捨去到個位數"
      ]
    },
    {
      "cell_type": "code",
      "execution_count": null,
      "metadata": {
        "id": "doWkeTXJehr2",
        "outputId": "f84cb640-8a5f-45f6-c46a-41f47d5bfbd5"
      },
      "outputs": [
        {
          "data": {
            "text/plain": [
              "1"
            ]
          },
          "execution_count": 6,
          "metadata": {},
          "output_type": "execute_result"
        }
      ],
      "source": [
        "10%9      # 取餘數"
      ]
    },
    {
      "cell_type": "code",
      "execution_count": null,
      "metadata": {
        "id": "FsWvcz_Mehr2",
        "outputId": "a927b4f0-1289-4e08-cdf6-62a26f93f2d5"
      },
      "outputs": [
        {
          "data": {
            "text/plain": [
              "1024"
            ]
          },
          "execution_count": 7,
          "metadata": {},
          "output_type": "execute_result"
        }
      ],
      "source": [
        "2 ** 10   # 指數"
      ]
    },
    {
      "cell_type": "code",
      "execution_count": null,
      "metadata": {
        "id": "380-o2pyehr2",
        "outputId": "068e1230-0ad6-4e50-e74b-1198ac7e1c53"
      },
      "outputs": [
        {
          "data": {
            "text/plain": [
              "1.4142135623730951"
            ]
          },
          "execution_count": 8,
          "metadata": {},
          "output_type": "execute_result"
        }
      ],
      "source": [
        "2 ** (1/2)   # 開根號"
      ]
    },
    {
      "cell_type": "code",
      "execution_count": null,
      "metadata": {
        "id": "rJr1ZZ6wehr3",
        "outputId": "bc18dc26-0c65-4346-92b0-61b3bd358ff1"
      },
      "outputs": [
        {
          "data": {
            "text/plain": [
              "(1+2j)"
            ]
          },
          "execution_count": 9,
          "metadata": {},
          "output_type": "execute_result"
        }
      ],
      "source": [
        "1+2j         # 複數 (這裡虛部用 j 表示)"
      ]
    },
    {
      "cell_type": "code",
      "execution_count": null,
      "metadata": {
        "id": "wnU9jsbiehr3",
        "outputId": "36d9f331-09bc-47f4-a285-0bc0ea223985"
      },
      "outputs": [
        {
          "data": {
            "text/plain": [
              "(-5+10j)"
            ]
          },
          "execution_count": 10,
          "metadata": {},
          "output_type": "execute_result"
        }
      ],
      "source": [
        "(1+2j) * (3+4j)    # 複數乘法"
      ]
    },
    {
      "cell_type": "code",
      "execution_count": null,
      "metadata": {
        "id": "N7-jjGnYehr3",
        "outputId": "9cf6f4d2-57d2-444f-c50b-2910d9309311"
      },
      "outputs": [
        {
          "data": {
            "text/plain": [
              "1"
            ]
          },
          "execution_count": 11,
          "metadata": {},
          "output_type": "execute_result"
        }
      ],
      "source": [
        "abs(-1)      # absolute, 絕對值"
      ]
    },
    {
      "cell_type": "code",
      "execution_count": null,
      "metadata": {
        "id": "Wdotd884ehr3",
        "outputId": "f1d4bf3d-68d2-4928-d7c9-e5d782c99342"
      },
      "outputs": [
        {
          "data": {
            "text/plain": [
              "2.23606797749979"
            ]
          },
          "execution_count": 12,
          "metadata": {},
          "output_type": "execute_result"
        }
      ],
      "source": [
        "abs(1+2j)    # absolute, 絕對值"
      ]
    },
    {
      "cell_type": "code",
      "execution_count": null,
      "metadata": {
        "id": "joaU-sptehr3",
        "outputId": "12bd775f-c2a9-4d89-bcb0-504b948d570b"
      },
      "outputs": [
        {
          "data": {
            "text/plain": [
              "2.23606797749979"
            ]
          },
          "execution_count": 13,
          "metadata": {},
          "output_type": "execute_result"
        }
      ],
      "source": [
        "import numpy as np\n",
        "np.sqrt(5)"
      ]
    },
    {
      "cell_type": "code",
      "execution_count": null,
      "metadata": {
        "id": "F7XaPxZBehr3",
        "outputId": "a661e333-92a3-44bb-d9b9-42f21d8823ec"
      },
      "outputs": [
        {
          "data": {
            "text/plain": [
              "3.142"
            ]
          },
          "execution_count": 14,
          "metadata": {},
          "output_type": "execute_result"
        }
      ],
      "source": [
        "round(3.1415926, 3)     # 四捨五入到小數點後第 3 位"
      ]
    },
    {
      "cell_type": "code",
      "execution_count": null,
      "metadata": {
        "id": "rZxcYJ98ehr4",
        "outputId": "c2d65de6-ff61-4691-90fb-a241230c8ef6"
      },
      "outputs": [
        {
          "data": {
            "text/plain": [
              "3.1416"
            ]
          },
          "execution_count": 15,
          "metadata": {},
          "output_type": "execute_result"
        }
      ],
      "source": [
        "round(3.1415926, 4)     # 四捨五入到小數點後第 4 位"
      ]
    },
    {
      "cell_type": "markdown",
      "metadata": {
        "id": "dvAQJgFnehr4"
      },
      "source": [
        "## <font color=\"Red\"> 1.1 熟能生巧 </font>\n",
        "<font color=\"Red\"> 練習以下狀況    \n",
        "<font color=\"Red\"> 1. 7.23 的 20 次方    \n",
        "<font color=\"Red\"> 2. 虛數 i 的平方    \n",
        "<font color=\"Red\"> 3. 42 的四次方根   \n",
        "<font color=\"Red\"> 補充 : 運算有先後順序，可以用括弧來確保自己想要的順序"
      ]
    },
    {
      "cell_type": "code",
      "execution_count": null,
      "metadata": {
        "id": "kyKseKxHehr4",
        "outputId": "f6865ef3-f4d1-4a1d-f49b-dd4870f3ee94",
        "colab": {
          "base_uri": "https://localhost:8080/"
        }
      },
      "outputs": [
        {
          "output_type": "stream",
          "name": "stdout",
          "text": [
            "7.23 的 3.25 次方是： 1.523231618090811e+17\n",
            "虛數 i 的平方是： (-1+0j)\n",
            "42 的四次方根是： 2.5457298950218306\n"
          ]
        }
      ],
      "source": [
        "#------------------- Code Here ------------------------#\n",
        "print(\"7.23 的 3.25 次方是：\", 7.23**20)\n",
        "print(\"虛數 i 的平方是：\", 1j**2)\n",
        "print(\"42 的四次方根是：\", 42**(1/4))\n",
        "#------------------- Stop Here ------------------------#"
      ]
    },
    {
      "cell_type": "markdown",
      "metadata": {
        "id": "0p19361Oehr4"
      },
      "source": [
        "## <font color=\"Red\"> 1.2 數字的顯示方式  % vs. format  \n",
        "https://kknews.cc/zh-tw/code/qlpq5nb.html    \n",
        "<font color=\"Red\">練習分別使用%與format進行\"7.23 的 3.25 次方\" 之不同顯示方式(顯示小數點以下第5位)   "
      ]
    },
    {
      "cell_type": "code",
      "execution_count": null,
      "metadata": {
        "id": "ujEMU2Xxehr4",
        "outputId": "8736965b-4021-4d46-a167-d3ae56114090",
        "colab": {
          "base_uri": "https://localhost:8080/"
        }
      },
      "outputs": [
        {
          "output_type": "stream",
          "name": "stdout",
          "text": [
            "7.23 的 3.25 次方是： 619.7256422209355\n",
            "7.23 的 3.25 次方是：619.72564\n",
            "7.23 的 3.25 次方是：619.72564\n"
          ]
        }
      ],
      "source": [
        "print(\"7.23 的 3.25 次方是：\", 7.23**3.25)\n",
        "#------------------- Code Here ------------------------#\n",
        "print(\"7.23 的 3.25 次方是：%.5f\"%7.23**3.25)\n",
        "print(\"7.23 的 3.25 次方是：%.5f\"%7.23**3.25)\n",
        "\n",
        "#------------------- Stop Here ------------------------#"
      ]
    },
    {
      "cell_type": "markdown",
      "metadata": {
        "id": "N0h1KaI4ehr4"
      },
      "source": [
        "## 賦值 (Assign)\n",
        "\n",
        "用 `=` 來給變數內容值"
      ]
    },
    {
      "cell_type": "code",
      "execution_count": null,
      "metadata": {
        "id": "FBBkv4i0ehr4"
      },
      "outputs": [],
      "source": [
        "a = 1\n",
        "b = 1.5\n",
        "c = \"asd\""
      ]
    },
    {
      "cell_type": "markdown",
      "metadata": {
        "id": "LUV8dJg8ehr4"
      },
      "source": [
        "## 型別 (Type)\n",
        "\n",
        "在程式語言中，型別概念上來說就像是物品的種類，例如：「這群是筆，那群是橡皮擦」。\n",
        "\n",
        "\n",
        "## Python 的內建型別 (Built-in Types)\n",
        "\n",
        "* int (整數)\n",
        "* float (浮點數)\n",
        "* complex (複數)\n",
        "* str (字串)\n",
        "* tuple\n",
        "* list\n",
        "* dict\n",
        "* set\n",
        "* ..."
      ]
    },
    {
      "cell_type": "code",
      "execution_count": null,
      "metadata": {
        "scrolled": true,
        "id": "z-oV-_Qnehr4",
        "outputId": "cf45c126-bce5-4e48-d10d-c40a2e5536f6"
      },
      "outputs": [
        {
          "data": {
            "text/plain": [
              "int"
            ]
          },
          "execution_count": 19,
          "metadata": {},
          "output_type": "execute_result"
        }
      ],
      "source": [
        "type(42)    # 用 type 可以得知型別"
      ]
    },
    {
      "cell_type": "code",
      "execution_count": null,
      "metadata": {
        "id": "8dzvLTtAehr5",
        "outputId": "6f7c31b4-7b26-4fb8-aa86-1fb99108e3f3"
      },
      "outputs": [
        {
          "data": {
            "text/plain": [
              "float"
            ]
          },
          "execution_count": 20,
          "metadata": {},
          "output_type": "execute_result"
        }
      ],
      "source": [
        "type(3.14159265358979323846)"
      ]
    },
    {
      "cell_type": "code",
      "execution_count": null,
      "metadata": {
        "id": "h4dZN-Slehr5",
        "outputId": "fba63ae8-9ebe-4b2e-ef65-51ea0b432dae"
      },
      "outputs": [
        {
          "name": "stdout",
          "output_type": "stream",
          "text": [
            "619.7256422209355 3\n",
            "<class 'float'>\n",
            "<class 'int'>\n"
          ]
        }
      ],
      "source": [
        "a = 7.23**3.25\n",
        "b = 3\n",
        "print(a,b)\n",
        "print(type(a))\n",
        "print(type(b))"
      ]
    },
    {
      "cell_type": "code",
      "execution_count": null,
      "metadata": {
        "id": "GRjhOAx7ehr5",
        "outputId": "7c3fb17e-af65-4e93-fb60-ce48645ccb29"
      },
      "outputs": [
        {
          "data": {
            "text/plain": [
              "'測試'"
            ]
          },
          "execution_count": 22,
          "metadata": {},
          "output_type": "execute_result"
        }
      ],
      "source": [
        "\"測試\"      # str, 字串"
      ]
    },
    {
      "cell_type": "code",
      "execution_count": null,
      "metadata": {
        "id": "Iy26UsL4ehr5",
        "outputId": "56520ee5-7566-4842-f391-90003bbaa9da"
      },
      "outputs": [
        {
          "data": {
            "text/plain": [
              "'\\n我\\n是\\n多\\n行\\n字\\n串\\n'"
            ]
          },
          "execution_count": 23,
          "metadata": {},
          "output_type": "execute_result"
        }
      ],
      "source": [
        "\"\"\"\n",
        "我\n",
        "是\n",
        "多\n",
        "行\n",
        "字\n",
        "串\n",
        "\"\"\"       # 用 3 個 \" 夾起來"
      ]
    },
    {
      "cell_type": "code",
      "execution_count": null,
      "metadata": {
        "id": "pUkVAbbIehr5",
        "outputId": "dbe1ffae-61ea-4980-f44b-d593ab3d0cc4"
      },
      "outputs": [
        {
          "data": {
            "text/plain": [
              "'\\n我\\n是\\n多\\n行\\n字\\n串\\n'"
            ]
          },
          "execution_count": 24,
          "metadata": {},
          "output_type": "execute_result"
        }
      ],
      "source": [
        "'''\n",
        "我\n",
        "是\n",
        "多\n",
        "行\n",
        "字\n",
        "串\n",
        "'''       # 也可以用 3 個 ' 夾起來"
      ]
    },
    {
      "cell_type": "code",
      "execution_count": null,
      "metadata": {
        "id": "7NNy8kCtehr5",
        "outputId": "2ce51fd1-ca5e-4e37-9fe5-6eec95676418"
      },
      "outputs": [
        {
          "data": {
            "text/plain": [
              "(42, 'O w O')"
            ]
          },
          "execution_count": 25,
          "metadata": {},
          "output_type": "execute_result"
        }
      ],
      "source": [
        "(42, 'O w O')    # tuple, 可以放入各種東西的大箱子，放完後不能更動"
      ]
    },
    {
      "cell_type": "code",
      "execution_count": null,
      "metadata": {
        "id": "as-6gpfxehr5",
        "outputId": "f289450c-b777-4633-b033-43559a7fd8b7"
      },
      "outputs": [
        {
          "data": {
            "text/plain": [
              "42"
            ]
          },
          "execution_count": 26,
          "metadata": {},
          "output_type": "execute_result"
        }
      ],
      "source": [
        "foo = (42, 'O w O')\n",
        "foo[0]          # subscript operator 可以取出其中的值\n",
        "                 # 注意，index 從 0 開始算"
      ]
    },
    {
      "cell_type": "code",
      "execution_count": null,
      "metadata": {
        "id": "Admmzdm8ehr5"
      },
      "outputs": [],
      "source": [
        "tu = [42, 'O w O']    # list 和 tuple 相似，但放完後可以更動"
      ]
    },
    {
      "cell_type": "code",
      "execution_count": null,
      "metadata": {
        "id": "KT_WL5Rjehr5"
      },
      "outputs": [],
      "source": [
        "tu[0] = 11"
      ]
    },
    {
      "cell_type": "code",
      "execution_count": null,
      "metadata": {
        "id": "jrya2ZOKehr5",
        "outputId": "b33b9e91-4950-45a5-e9ef-a323342e2d7e"
      },
      "outputs": [
        {
          "data": {
            "text/plain": [
              "{'a': 1, 'b': 42}"
            ]
          },
          "execution_count": 29,
          "metadata": {},
          "output_type": "execute_result"
        }
      ],
      "source": [
        "{'a': 1, 'b': 42}    # dict，冒號左邊的是 key、右邊的是 value，用 key 可以查到 value (想像查字典的狀況)"
      ]
    },
    {
      "cell_type": "code",
      "execution_count": null,
      "metadata": {
        "id": "ls58AzAZehr6",
        "outputId": "742857f6-d9f0-4854-b8d2-89da6384a09e"
      },
      "outputs": [
        {
          "data": {
            "text/plain": [
              "42"
            ]
          },
          "execution_count": 30,
          "metadata": {},
          "output_type": "execute_result"
        }
      ],
      "source": [
        "d = {'a': 1, 'b': 42}\n",
        "d['b']"
      ]
    },
    {
      "cell_type": "code",
      "execution_count": null,
      "metadata": {
        "id": "BOLk3g50ehr6",
        "outputId": "7041406d-4ef1-41e9-883a-5fbc3f1338fb"
      },
      "outputs": [
        {
          "data": {
            "text/plain": [
              "{1, 2, 3}"
            ]
          },
          "execution_count": 31,
          "metadata": {},
          "output_type": "execute_result"
        }
      ],
      "source": [
        "{1, 2, 3, 3, 3}  # set，數學上的集合，裡面的東西不會重複，也沒有順序"
      ]
    },
    {
      "cell_type": "code",
      "execution_count": null,
      "metadata": {
        "id": "9trsnzYQehr6",
        "outputId": "3928096c-9f90-4009-e264-b9412ff55151"
      },
      "outputs": [
        {
          "data": {
            "text/plain": [
              "{1, 2, 3, 4}"
            ]
          },
          "execution_count": 32,
          "metadata": {},
          "output_type": "execute_result"
        }
      ],
      "source": [
        "A = {1, 2, 3}\n",
        "B = {1, 2, 4}\n",
        "A | B            # 取聯集"
      ]
    },
    {
      "cell_type": "code",
      "execution_count": null,
      "metadata": {
        "id": "-NiS2f2hehr6",
        "outputId": "5db32b81-176d-4696-9032-432c82e0eb6f"
      },
      "outputs": [
        {
          "data": {
            "text/plain": [
              "{1, 2}"
            ]
          },
          "execution_count": 33,
          "metadata": {},
          "output_type": "execute_result"
        }
      ],
      "source": [
        "A & B            # 取交集"
      ]
    },
    {
      "cell_type": "code",
      "execution_count": null,
      "metadata": {
        "id": "lBPVpTxUehr7",
        "outputId": "271f426f-7a3d-4388-c949-595dce6c938f"
      },
      "outputs": [
        {
          "data": {
            "text/plain": [
              "{3, 4}"
            ]
          },
          "execution_count": 34,
          "metadata": {},
          "output_type": "execute_result"
        }
      ],
      "source": [
        "A ^ B            # 取對稱差"
      ]
    },
    {
      "cell_type": "code",
      "execution_count": null,
      "metadata": {
        "id": "5Pd4nChBehr7",
        "outputId": "5e684442-b8ed-43b7-a6f0-10a6d49973c8"
      },
      "outputs": [
        {
          "data": {
            "text/plain": [
              "{3}"
            ]
          },
          "execution_count": 35,
          "metadata": {},
          "output_type": "execute_result"
        }
      ],
      "source": [
        "A - B            # 取差集"
      ]
    },
    {
      "cell_type": "markdown",
      "metadata": {
        "id": "ZdIXOVeXehr7"
      },
      "source": [
        "## 真偽值\n",
        "\n",
        "* True/False\n",
        "* `>` `>=` `<` `<=` `==` `!=` `in`\n",
        "* and/or/not\n",
        "* is\n",
        "* 各種 empty 狀況\n",
        "    - 0, 1\n",
        "    - \"\", \"abc\"\n",
        "    - (,), (1, 2)\n",
        "    - [], [1, 2]\n",
        "    - set(), {1, 2}"
      ]
    },
    {
      "cell_type": "code",
      "execution_count": null,
      "metadata": {
        "id": "ZYeBJRNcehr7",
        "outputId": "2150150e-1dd0-453b-bfb1-6b1e2b3e11ad"
      },
      "outputs": [
        {
          "data": {
            "text/plain": [
              "True"
            ]
          },
          "execution_count": 36,
          "metadata": {},
          "output_type": "execute_result"
        }
      ],
      "source": [
        "True"
      ]
    },
    {
      "cell_type": "code",
      "execution_count": null,
      "metadata": {
        "id": "5kCVYHpQehr7",
        "outputId": "d511b495-cfef-4cab-ae1e-fda51a4cf2b0"
      },
      "outputs": [
        {
          "data": {
            "text/plain": [
              "False"
            ]
          },
          "execution_count": 37,
          "metadata": {},
          "output_type": "execute_result"
        }
      ],
      "source": [
        "False"
      ]
    },
    {
      "cell_type": "code",
      "execution_count": null,
      "metadata": {
        "id": "p41pjkJnehr7",
        "outputId": "243f8210-990a-4cc6-8e8e-c5a0d4b66e36"
      },
      "outputs": [
        {
          "data": {
            "text/plain": [
              "True"
            ]
          },
          "execution_count": 38,
          "metadata": {},
          "output_type": "execute_result"
        }
      ],
      "source": [
        "3 > 2"
      ]
    },
    {
      "cell_type": "code",
      "execution_count": null,
      "metadata": {
        "id": "o-TO7nZBehr7",
        "outputId": "451dc380-cdf8-4e3c-f491-c753bb20a1bb"
      },
      "outputs": [
        {
          "data": {
            "text/plain": [
              "False"
            ]
          },
          "execution_count": 39,
          "metadata": {},
          "output_type": "execute_result"
        }
      ],
      "source": [
        "5 <= 1"
      ]
    },
    {
      "cell_type": "code",
      "execution_count": null,
      "metadata": {
        "id": "2OIlkrSTehr7",
        "outputId": "61f5531f-1fd6-4b2e-a849-13ebc64e4b08"
      },
      "outputs": [
        {
          "data": {
            "text/plain": [
              "True"
            ]
          },
          "execution_count": 40,
          "metadata": {},
          "output_type": "execute_result"
        }
      ],
      "source": [
        "1 != 2"
      ]
    },
    {
      "cell_type": "code",
      "execution_count": null,
      "metadata": {
        "id": "-mnLW5IZehr8",
        "outputId": "cc272df3-a1b6-4143-b45f-01ecd2411f3d"
      },
      "outputs": [
        {
          "data": {
            "text/plain": [
              "True"
            ]
          },
          "execution_count": 41,
          "metadata": {},
          "output_type": "execute_result"
        }
      ],
      "source": [
        "5 in [1, 2, 3, 4, 5]"
      ]
    },
    {
      "cell_type": "code",
      "execution_count": null,
      "metadata": {
        "id": "tlNreYAnehr8",
        "outputId": "e3eb7b0f-3a56-44da-a678-24b79c740d14"
      },
      "outputs": [
        {
          "data": {
            "text/plain": [
              "False"
            ]
          },
          "execution_count": 42,
          "metadata": {},
          "output_type": "execute_result"
        }
      ],
      "source": [
        "bool(0)    # 用 bool 來看各個資料是 True 還是 False"
      ]
    },
    {
      "cell_type": "code",
      "execution_count": null,
      "metadata": {
        "id": "owMJVafFehr8",
        "outputId": "d313432d-8a97-41c7-d768-27976aef064c"
      },
      "outputs": [
        {
          "data": {
            "text/plain": [
              "True"
            ]
          },
          "execution_count": 43,
          "metadata": {},
          "output_type": "execute_result"
        }
      ],
      "source": [
        "bool(42)"
      ]
    },
    {
      "cell_type": "code",
      "execution_count": null,
      "metadata": {
        "id": "Ie0AQ3CKehr8",
        "outputId": "303b70a0-68c1-4cb4-fb2c-fde031ab375f"
      },
      "outputs": [
        {
          "data": {
            "text/plain": [
              "(False, True)"
            ]
          },
          "execution_count": 44,
          "metadata": {},
          "output_type": "execute_result"
        }
      ],
      "source": [
        "bool(\"\"), bool(\"abc\")"
      ]
    },
    {
      "cell_type": "code",
      "execution_count": null,
      "metadata": {
        "id": "laweORR-ehr8",
        "outputId": "2afff2b2-af5d-47b1-b4bd-23f44f009f33"
      },
      "outputs": [
        {
          "data": {
            "text/plain": [
              "(False, True)"
            ]
          },
          "execution_count": 45,
          "metadata": {},
          "output_type": "execute_result"
        }
      ],
      "source": [
        "bool(tuple()), bool((1, 2))"
      ]
    },
    {
      "cell_type": "code",
      "execution_count": null,
      "metadata": {
        "id": "yg-Y6qVaehr8",
        "outputId": "e54cc448-8ee1-429d-d6a3-df2ac90e8c9b"
      },
      "outputs": [
        {
          "data": {
            "text/plain": [
              "(False, True)"
            ]
          },
          "execution_count": 46,
          "metadata": {},
          "output_type": "execute_result"
        }
      ],
      "source": [
        "bool([]), bool([1, 2])"
      ]
    },
    {
      "cell_type": "code",
      "execution_count": null,
      "metadata": {
        "id": "QAUYlnC7ehr8",
        "outputId": "7fb47396-1637-4a59-e379-9c656d2fdaf5"
      },
      "outputs": [
        {
          "data": {
            "text/plain": [
              "(False, True)"
            ]
          },
          "execution_count": 47,
          "metadata": {},
          "output_type": "execute_result"
        }
      ],
      "source": [
        "bool(set()), bool({1, 2})"
      ]
    },
    {
      "cell_type": "code",
      "execution_count": null,
      "metadata": {
        "id": "MS42Orrzehr8",
        "outputId": "f5c8f2ae-7acb-4d50-86cd-b65a62bf6344"
      },
      "outputs": [
        {
          "data": {
            "text/plain": [
              "(False, True)"
            ]
          },
          "execution_count": 48,
          "metadata": {},
          "output_type": "execute_result"
        }
      ],
      "source": [
        "bool(dict()), bool({'a': 1, 'b': 42})"
      ]
    },
    {
      "cell_type": "markdown",
      "metadata": {
        "id": "LiHa05n0ehr9"
      },
      "source": [
        "## 流程控制\n",
        "\n",
        "* if ... elif ... else\n",
        "* for ... in ...\n",
        "* break\n",
        "* continue\n",
        "* while ... else ..."
      ]
    },
    {
      "cell_type": "code",
      "execution_count": null,
      "metadata": {
        "id": "NnNX8qbhehr9",
        "outputId": "c0342757-0549-4195-c3e3-2c36e117cb2d"
      },
      "outputs": [
        {
          "name": "stdout",
          "output_type": "stream",
          "text": [
            "Yes\n"
          ]
        }
      ],
      "source": [
        "if 3 > 2:\n",
        "    print('Yes')\n",
        "else:\n",
        "    print('No')    # 如果 3 > 2 的話印出 'Yes'，否則印出 'Nooooooo, why can you come here?'\n",
        "                                                 # 注意縮排是有影響的"
      ]
    },
    {
      "cell_type": "code",
      "execution_count": null,
      "metadata": {
        "id": "H_cP8th7ehr9",
        "outputId": "7cfd18b2-3258-4f02-ce26-c91e683cc7d3"
      },
      "outputs": [
        {
          "name": "stdout",
          "output_type": "stream",
          "text": [
            "Yes\n"
          ]
        }
      ],
      "source": [
        "if 2 > 3:\n",
        "    print('No')\n",
        "elif 5 > 4:\n",
        "    print('Yes')\n",
        "else:\n",
        "    print('@_@?')    # 如果 2 > 3 的話印出 'No'，要不然 5 > 4 的話就印出 'Yes'，否則印出 '@_@?'"
      ]
    },
    {
      "cell_type": "markdown",
      "metadata": {
        "id": "LQkjSlEYehr9"
      },
      "source": [
        "## 利用 input 作為使用者輸入介面，使用 int() 將輸入值改為整數"
      ]
    },
    {
      "cell_type": "code",
      "execution_count": null,
      "metadata": {
        "id": "oUam23fEehr9",
        "outputId": "d0afe5ff-844e-4f64-ef75-655cbc845951"
      },
      "outputs": [
        {
          "name": "stdout",
          "output_type": "stream",
          "text": [
            "請輸入今天的溫度：29\n",
            "該開冷氣了！\n"
          ]
        }
      ],
      "source": [
        "temperature = int(input(\"請輸入今天的溫度：\"))\n",
        "if temperature >= 28:\n",
        "    print(\"該開冷氣了！\")\n",
        "else:\n",
        "    print(\"吹電風扇就好。\")"
      ]
    },
    {
      "cell_type": "markdown",
      "metadata": {
        "id": "JW7qm_MKehr9"
      },
      "source": [
        "## 利用 str 將數值改為字串以輸出顯示"
      ]
    },
    {
      "cell_type": "code",
      "execution_count": null,
      "metadata": {
        "id": "uvJTTsQ-ehr9",
        "outputId": "556bf352-bdc2-4b65-e6ed-bea2628b911a"
      },
      "outputs": [
        {
          "name": "stdout",
          "output_type": "stream",
          "text": [
            "請輸入今天的溫度：26\n",
            "今天溫度26度，吹電風扇就好。\n"
          ]
        }
      ],
      "source": [
        "temperature = int(input(\"請輸入今天的溫度：\"))\n",
        "if temperature >= 28:\n",
        "    print(\"今天溫度\"+str(temperature)+\"度，該開冷氣了！\")\n",
        "else:\n",
        "    print(\"今天溫度\"+str(temperature)+\"度，吹電風扇就好。\")"
      ]
    },
    {
      "cell_type": "markdown",
      "metadata": {
        "id": "FgZOOgn7ehr9"
      },
      "source": [
        "## <font color=\"Red\"> 1.3 請增加溫度的判斷，熟能生巧 </font>\n",
        "\n",
        "<font color=\"Red\"> 溫度範圍與顯示字串如下：   \n",
        "<font color=\"Red\"> 1. 今天溫度 >= 28 度，顯示\"今天溫度??度，該開冷氣了！\"    \n",
        "<font color=\"Red\"> 2. 今天溫度介於 20 到 27 度，顯示\"今天溫度??度，吹電風扇就好。\"      \n",
        "<font color=\"Red\"> 3. 今天溫度介於 10 到 19 度，顯示\"今天溫度??度，開窗就可以了。\"      \n",
        "<font color=\"Red\"> 4. 今天溫度 9 度以下，顯示\"今天溫度??度，太冷了，關好窗戶。\"    "
      ]
    },
    {
      "cell_type": "code",
      "execution_count": null,
      "metadata": {
        "id": "Hpxeg4Zuehr-",
        "outputId": "200df9cc-308d-4840-90f2-96bb6fd4c57e"
      },
      "outputs": [
        {
          "name": "stdout",
          "output_type": "stream",
          "text": [
            "請輸入今天的溫度：19\n",
            "今天溫度19度，開窗就可以了\n"
          ]
        }
      ],
      "source": [
        "temperature = int(input(\"請輸入今天的溫度：\"))\n",
        "#------------------- Code Here ------------------------#\n",
        "if temperature >= 28:\n",
        "    print(\"今天溫度\"+str(temperature)+\"度，該開冷氣了！\")\n",
        "elif temperature <= 27 & temperature >= 20:\n",
        "    print(\"今天溫度\"+str(temperature)+\"度，吹電風扇就好\")\n",
        "elif temperature <= 19 & temperature >= 10:\n",
        "    print(\"今天溫度\"+str(temperature)+\"度，開窗就可以了\")\n",
        "else:\n",
        "    print(\"今天溫度\"+str(temperature)+\"度，太冷了，關好窗戶。\")\n",
        "\n",
        "#------------------- Stop Here ------------------------#"
      ]
    },
    {
      "cell_type": "markdown",
      "metadata": {
        "id": "DD-dVw4Dehr-"
      },
      "source": [
        "## 常見的數字計算"
      ]
    },
    {
      "cell_type": "code",
      "execution_count": null,
      "metadata": {
        "id": "QC7wAxVUehr-",
        "outputId": "8042cbe6-1142-4a3e-8dd2-d8d9467cfe05"
      },
      "outputs": [
        {
          "name": "stdout",
          "output_type": "stream",
          "text": [
            "a = 5.50, b = 3.20, c = a+b = 8.70\n",
            "a = 5.50, b = 3.20, d = a-b = 2.30\n",
            "a = 5.50, b = 3.20, e = a*b = 17.60\n",
            "a = 5.50, b = 3.20, f = a/b = 1.72\n"
          ]
        }
      ],
      "source": [
        "a = 5.5\n",
        "b = 3.2\n",
        "c = a+b\n",
        "d = a-b\n",
        "e = a*b\n",
        "f = a/b\n",
        "print(\"a = %.2f, b = %.2f, c = a+b = %.2f\"%(a,b,c))\n",
        "print(\"a = %.2f, b = %.2f, d = a-b = %.2f\"%(a,b,d))\n",
        "print(\"a = %.2f, b = %.2f, e = a*b = %.2f\"%(a,b,e))\n",
        "print(\"a = %.2f, b = %.2f, f = a/b = %.2f\"%(a,b,f))"
      ]
    },
    {
      "cell_type": "markdown",
      "metadata": {
        "id": "SA3kXtDPehr-"
      },
      "source": [
        "## <font color=\"Red\"> 1.4 BMI 計算\n",
        "<font color=\"Red\"> 讓使用者可以自行輸入身高、體重，接著計算 BMI 值，並輸出小數點以下兩位的格式\n",
        "<img src=https://health99.hpa.gov.tw/img/exam/bmi_form.png width=\"200\">"
      ]
    },
    {
      "cell_type": "code",
      "execution_count": null,
      "metadata": {
        "id": "d65wCmO-ehr-",
        "outputId": "acc969b8-2b7d-43b9-be03-b0c0132ed971"
      },
      "outputs": [
        {
          "name": "stdout",
          "output_type": "stream",
          "text": [
            "請輸入你的身高(cm)：170\n",
            "請輸入你的體重(kg)：70\n",
            "你的BMI數值為：20.588235\n"
          ]
        }
      ],
      "source": [
        "height = int(input(\"請輸入你的身高(cm)：\"))\n",
        "weight = int(input(\"請輸入你的體重(kg)：\"))\n",
        "#------------------- Code Here ------------------------#\n",
        "print(\"你的BMI數值為：%.2f\" % (weight/((height/100)**2)))\n",
        "#------------------- Stop Here ------------------------#"
      ]
    },
    {
      "cell_type": "markdown",
      "metadata": {
        "id": "ZBgDZBWdehr-"
      },
      "source": [
        "## for 迴圈"
      ]
    },
    {
      "cell_type": "code",
      "execution_count": null,
      "metadata": {
        "id": "ul6P7WUeehr-",
        "outputId": "4ea79db7-b07b-474b-f1ab-031438e13311"
      },
      "outputs": [
        {
          "name": "stdout",
          "output_type": "stream",
          "text": [
            "1\n",
            "2\n",
            "3\n",
            "4\n"
          ]
        }
      ],
      "source": [
        "for i in [1, 2, 3, 4]:    # i 會依序變成 1, 2, 3, 4 來執行下面 block 的程式，在這邊則是會被印出來\n",
        "    print(i)"
      ]
    },
    {
      "cell_type": "code",
      "execution_count": null,
      "metadata": {
        "id": "BhseB2taehr-",
        "outputId": "be0a1b77-8fc4-472d-c5cf-8ea5721d6496"
      },
      "outputs": [
        {
          "name": "stdout",
          "output_type": "stream",
          "text": [
            "1\n",
            "2\n"
          ]
        }
      ],
      "source": [
        "for i in [1, 2, 3, 4]:\n",
        "    if i == 3:\n",
        "        break    # 使用 break 來提早離開，當 i 變成 3 時就離開這個 for loop\n",
        "    print(i)"
      ]
    },
    {
      "cell_type": "code",
      "execution_count": null,
      "metadata": {
        "scrolled": true,
        "id": "WI34i7Cvehr_",
        "outputId": "8d022b53-e10c-4188-c0a3-ec4aa68ea87b"
      },
      "outputs": [
        {
          "name": "stdout",
          "output_type": "stream",
          "text": [
            "1\n",
            "2\n",
            "3\n",
            "4\n",
            "End\n"
          ]
        }
      ],
      "source": [
        "for i in [1, 2, 3, 4]:\n",
        "    print(i)\n",
        "else:\n",
        "    print('End')    # 如果前面的 for 成功跑完的話會執行這段"
      ]
    },
    {
      "cell_type": "code",
      "execution_count": null,
      "metadata": {
        "id": "oMOks_6gehr_",
        "outputId": "8454380b-a1d3-4564-c93b-709a08408b40"
      },
      "outputs": [
        {
          "name": "stdout",
          "output_type": "stream",
          "text": [
            "1\n",
            "2\n"
          ]
        }
      ],
      "source": [
        "for i in [1, 2, 3, 4]:\n",
        "    if i == 3:\n",
        "        break\n",
        "    print(i)\n",
        "else:\n",
        "    print('End')    # 如果前面的 for 成功跑完的話會執行這段"
      ]
    },
    {
      "cell_type": "code",
      "execution_count": null,
      "metadata": {
        "id": "ynStDLOhehr_",
        "outputId": "38c36301-ce3c-43e4-8056-e14c913bcce9"
      },
      "outputs": [
        {
          "name": "stdout",
          "output_type": "stream",
          "text": [
            "1\n",
            "2\n",
            "4\n",
            "End\n"
          ]
        }
      ],
      "source": [
        "for i in [1, 2, 3, 4]:\n",
        "    if i == 3:\n",
        "        continue    # continue 可以跳過這次後面的 code，進入下一輪\n",
        "    print(i)\n",
        "else:\n",
        "    print('End')    # 如果前面的 for 成功跑完的話會執行這段"
      ]
    },
    {
      "cell_type": "markdown",
      "metadata": {
        "id": "plCudyLGehr_"
      },
      "source": [
        "## <font color=\"Red\"> 1.5 使用 for 迴圈計算 [1, 2, 3, 4, 6, 7]的數值總和</font>"
      ]
    },
    {
      "cell_type": "code",
      "execution_count": null,
      "metadata": {
        "id": "DjbL1wC9ehr_",
        "outputId": "aec972e1-8b0d-4db4-d31b-2f7fcf8097b2"
      },
      "outputs": [
        {
          "name": "stdout",
          "output_type": "stream",
          "text": [
            "總和為:23\n"
          ]
        }
      ],
      "source": [
        "sum = 0\n",
        "#------------------- Code Here ------------------------#\n",
        "for i in [1, 2, 3, 4, 6, 7]:\n",
        "    sum+=i\n",
        "#------------------- Stop Here ------------------------#\n",
        "print(\"總和為:\"+str(sum))"
      ]
    },
    {
      "cell_type": "markdown",
      "metadata": {
        "id": "uHrG3y_2ehr_"
      },
      "source": [
        "## while 迴圈"
      ]
    },
    {
      "cell_type": "code",
      "execution_count": null,
      "metadata": {
        "id": "mMewjC1Uehr_",
        "outputId": "00a3906c-9b9b-4ee5-9807-de88a3cc68a9"
      },
      "outputs": [
        {
          "name": "stdout",
          "output_type": "stream",
          "text": [
            "4\n",
            "3\n",
            "2\n",
            "1\n"
          ]
        }
      ],
      "source": [
        "i = 4\n",
        "while i > 0:   # 當 while 後面接的條件一直符合時就會繼續執行\n",
        "    print(i)\n",
        "    i = i - 1"
      ]
    },
    {
      "cell_type": "code",
      "execution_count": null,
      "metadata": {
        "id": "eNN7Kw4mehr_",
        "outputId": "22c9f606-e261-477e-c3ad-420d98b3d44b"
      },
      "outputs": [
        {
          "name": "stdout",
          "output_type": "stream",
          "text": [
            "4\n",
            "3\n",
            "2\n",
            "1\n",
            "End\n"
          ]
        }
      ],
      "source": [
        "i = 4\n",
        "while i > 0:\n",
        "    print(i)\n",
        "    i = i - 1\n",
        "else:\n",
        "    print('End')"
      ]
    },
    {
      "cell_type": "code",
      "execution_count": null,
      "metadata": {
        "id": "AjFogRa0ehsA",
        "outputId": "2b0d0a4b-1bed-4ccc-abbd-4fbc49aebec9"
      },
      "outputs": [
        {
          "name": "stdout",
          "output_type": "stream",
          "text": [
            "4\n"
          ]
        }
      ],
      "source": [
        "i = 4\n",
        "while i > 0:\n",
        "    if i == 3:\n",
        "        break\n",
        "    print(i)\n",
        "    i = i - 1\n",
        "else:\n",
        "    print('End')"
      ]
    },
    {
      "cell_type": "markdown",
      "metadata": {
        "id": "DoghmV73ehsA"
      },
      "source": [
        "## <font color=\"Red\"> 1.6 使用while計算小於等於40的偶數和"
      ]
    },
    {
      "cell_type": "code",
      "execution_count": null,
      "metadata": {
        "id": "Eq1_DiUTehsA",
        "outputId": "0162006e-376c-449a-84ea-dbc7a68f9c61"
      },
      "outputs": [
        {
          "name": "stdout",
          "output_type": "stream",
          "text": [
            "小於等於40的偶數和:420\n"
          ]
        }
      ],
      "source": [
        "i = 40\n",
        "sum = 0;\n",
        "#------------------- Code Here ------------------------#\n",
        "while i>0:\n",
        "    sum+=i\n",
        "    i -= 2\n",
        "#------------------- Stop Here ------------------------#\n",
        "print(\"小於等於40的偶數和:\"+str(sum))"
      ]
    },
    {
      "cell_type": "markdown",
      "metadata": {
        "id": "_eu2ihIYehsA"
      },
      "source": [
        "## <font color=\"Red\"> 1.7 使用while計算小於等於200的 3 或 5 的倍數和"
      ]
    },
    {
      "cell_type": "code",
      "execution_count": null,
      "metadata": {
        "id": "Kim5roejehsA",
        "outputId": "093cd8fa-0daa-4abc-9473-532af2a4643a"
      },
      "outputs": [
        {
          "name": "stdout",
          "output_type": "stream",
          "text": [
            "小於等於200的 3 或 5 的倍數和:9368\n"
          ]
        }
      ],
      "source": [
        "#Method 1 (使用 if 和 elif)\n",
        "i = 200\n",
        "sum = 0;\n",
        "#------------------- Code Here ------------------------#\n",
        "while i>0:\n",
        "    if (i%3==0):\n",
        "        sum += i\n",
        "    elif (i%5==0):\n",
        "        sum += i\n",
        "    i -= 1\n",
        "#------------------- Stop Here ------------------------#\n",
        "print(\"小於等於200的 3 或 5 的倍數和:\"+str(sum))"
      ]
    },
    {
      "cell_type": "code",
      "execution_count": null,
      "metadata": {
        "id": "f4r5e7_0ehsA",
        "outputId": "73c48b32-8df7-473b-a58a-68c9377539ec"
      },
      "outputs": [
        {
          "name": "stdout",
          "output_type": "stream",
          "text": [
            "小於等於200的 3 或 5 的倍數和:9368\n"
          ]
        }
      ],
      "source": [
        "#Method 2 (僅使用一個 if)\n",
        "i = 200\n",
        "sum = 0;\n",
        "#------------------- Code Here ------------------------#\n",
        "while i>0:\n",
        "    if (i%3==0 or i%5==0):\n",
        "        sum += i\n",
        "    i -= 1\n",
        "#------------------- Stop Here ------------------------#\n",
        "print(\"小於等於200的 3 或 5 的倍數和:\"+str(sum))"
      ]
    },
    {
      "cell_type": "markdown",
      "metadata": {
        "id": "FNrfL_tQehsA"
      },
      "source": [
        "## 更多字串操作\n",
        "\n",
        "* string formatting\n",
        "* 字串串接\n",
        "* slice : `start:stop[:step]`"
      ]
    },
    {
      "cell_type": "code",
      "execution_count": null,
      "metadata": {
        "id": "8VmO6dl0ehsA",
        "outputId": "e131fcbe-35db-4768-ceaf-7c45e3fb8117"
      },
      "outputs": [
        {
          "data": {
            "text/plain": [
              "'1 | 2'"
            ]
          },
          "execution_count": 68,
          "metadata": {},
          "output_type": "execute_result"
        }
      ],
      "source": [
        "'{} | {}'.format(1, 2)    # 用 {} 表示要留著填空，後面用 .format 傳入要填進去的值"
      ]
    },
    {
      "cell_type": "code",
      "execution_count": null,
      "metadata": {
        "id": "QZdecTrhehsB",
        "outputId": "736b09c7-d01f-4e11-c9e0-a5ac68c9a62c"
      },
      "outputs": [
        {
          "data": {
            "text/plain": [
              "'~ [1, 2, 3, 4] ~'"
            ]
          },
          "execution_count": 69,
          "metadata": {},
          "output_type": "execute_result"
        }
      ],
      "source": [
        "'~ {} ~'.format([1, 2, 3, 4])"
      ]
    },
    {
      "cell_type": "code",
      "execution_count": null,
      "metadata": {
        "id": "zklk9iiiehsB",
        "outputId": "d1825a48-34ff-43ad-ec0f-0c93f7bea532"
      },
      "outputs": [
        {
          "data": {
            "text/plain": [
              "'上上下下左右左右BA'"
            ]
          },
          "execution_count": 70,
          "metadata": {},
          "output_type": "execute_result"
        }
      ],
      "source": [
        "'上上下下' + '左右左右' + 'BA'    # 用 + 可以把字串接起來"
      ]
    },
    {
      "cell_type": "code",
      "execution_count": null,
      "metadata": {
        "id": "CwSrIvtSehsB"
      },
      "outputs": [],
      "source": [
        "s = 'abcdefghijklmnopqrstuvwxyz'"
      ]
    },
    {
      "cell_type": "code",
      "execution_count": null,
      "metadata": {
        "id": "oGHrXU39ehsB",
        "outputId": "db2c9a8b-d61b-4b3d-91ce-7540798ac669"
      },
      "outputs": [
        {
          "data": {
            "text/plain": [
              "'a'"
            ]
          },
          "execution_count": 72,
          "metadata": {},
          "output_type": "execute_result"
        }
      ],
      "source": [
        "s[0]"
      ]
    },
    {
      "cell_type": "code",
      "execution_count": null,
      "metadata": {
        "id": "TpJixK1DehsB",
        "outputId": "8f9ec73c-dd5c-4bcf-994d-0e09fe3ccaf1"
      },
      "outputs": [
        {
          "data": {
            "text/plain": [
              "'bcd'"
            ]
          },
          "execution_count": 73,
          "metadata": {},
          "output_type": "execute_result"
        }
      ],
      "source": [
        "s[1:4]    # index 1 到 index 3 (index 4 結束)"
      ]
    },
    {
      "cell_type": "code",
      "execution_count": null,
      "metadata": {
        "id": "SrcmmZz5ehsB",
        "outputId": "6adcac14-66c1-4b71-e275-fc4f20ebe31e"
      },
      "outputs": [
        {
          "data": {
            "text/plain": [
              "'z'"
            ]
          },
          "execution_count": 74,
          "metadata": {},
          "output_type": "execute_result"
        }
      ],
      "source": [
        "s[-1]     # 負的 index 會倒回去"
      ]
    },
    {
      "cell_type": "code",
      "execution_count": null,
      "metadata": {
        "id": "8DuzTFCaehsB",
        "outputId": "419a2cc9-1dc0-47c9-c102-564b0dd35166"
      },
      "outputs": [
        {
          "data": {
            "text/plain": [
              "'bdfh'"
            ]
          },
          "execution_count": 75,
          "metadata": {},
          "output_type": "execute_result"
        }
      ],
      "source": [
        "s[1:8:2]  # index 1 到 index 7，每次跳兩步"
      ]
    },
    {
      "cell_type": "code",
      "execution_count": null,
      "metadata": {
        "id": "XBN05jeJehsB",
        "outputId": "55452eee-07fb-4d61-843e-dd8fbcfa8ecb"
      },
      "outputs": [
        {
          "data": {
            "text/plain": [
              "'zxvt'"
            ]
          },
          "execution_count": 76,
          "metadata": {},
          "output_type": "execute_result"
        }
      ],
      "source": [
        "s[-1:-9:-2]"
      ]
    },
    {
      "cell_type": "code",
      "execution_count": null,
      "metadata": {
        "id": "WYjs7EZBehsB",
        "outputId": "5571dd1e-0951-4916-bacd-3ac27999061e"
      },
      "outputs": [
        {
          "data": {
            "text/plain": [
              "'zyxwvutsrqponmlkjihgfedcba'"
            ]
          },
          "execution_count": 77,
          "metadata": {},
          "output_type": "execute_result"
        }
      ],
      "source": [
        "s[::-1]   # 顛倒，不指定的話會自動帶入值"
      ]
    },
    {
      "cell_type": "markdown",
      "metadata": {
        "id": "TJbXrehTehsC"
      },
      "source": [
        "## Function\n",
        "\n",
        "一些常用的 code 會寫成 function，之後要使用時直接呼叫就可以了"
      ]
    },
    {
      "cell_type": "code",
      "execution_count": null,
      "metadata": {
        "scrolled": true,
        "id": "x4uNJaTGehsC",
        "outputId": "6a955901-830b-4081-c60b-7cffde0a2c5d"
      },
      "outputs": [
        {
          "name": "stdout",
          "output_type": "stream",
          "text": [
            "Hello ~\n"
          ]
        }
      ],
      "source": [
        "def hello():\n",
        "    print('Hello ~')\n",
        "\n",
        "hello()"
      ]
    },
    {
      "cell_type": "code",
      "execution_count": null,
      "metadata": {
        "id": "qfR1tM8VehsC",
        "outputId": "afac3292-4045-41f3-c12a-a2c7979f20fc"
      },
      "outputs": [
        {
          "name": "stdout",
          "output_type": "stream",
          "text": [
            "42\n"
          ]
        }
      ],
      "source": [
        "def f_42():\n",
        "    return 42    # 用 return 來回傳資料\n",
        "\n",
        "x = f_42()\n",
        "print(x)"
      ]
    },
    {
      "cell_type": "code",
      "execution_count": null,
      "metadata": {
        "id": "UZbQQCIBehsC",
        "outputId": "bb8db0df-da96-4ccf-9141-4eadb6734897"
      },
      "outputs": [
        {
          "name": "stdout",
          "output_type": "stream",
          "text": [
            "13 15\n"
          ]
        }
      ],
      "source": [
        "def f(a, b=3):   # a 和 b 是參數，b 預設是 3\n",
        "    return a+b\n",
        "\n",
        "x = f(10)\n",
        "y = f(10, 5)\n",
        "print(x, y)"
      ]
    },
    {
      "cell_type": "markdown",
      "metadata": {
        "id": "77x9-BLWehsC"
      },
      "source": [
        "## <font color=\"Red\"> 1.8 函數練習</font>\n",
        "<font color=\"Red\">撰寫函數 test(a,b)，計算傳入兩個數a和b的平均值</font>"
      ]
    },
    {
      "cell_type": "code",
      "execution_count": null,
      "metadata": {
        "id": "SuAiRz8MehsC",
        "outputId": "1257af41-6b6a-4f57-9f67-db2c226d1ce0"
      },
      "outputs": [
        {
          "name": "stdout",
          "output_type": "stream",
          "text": [
            "5.5\n"
          ]
        }
      ],
      "source": [
        "#------------------- Code Here ------------------------#\n",
        "def test(a,b):\n",
        "    return (a+b)/2\n",
        "#------------------- Stop Here ------------------------#\n",
        "r = test(4,7)\n",
        "print(r)"
      ]
    },
    {
      "cell_type": "markdown",
      "metadata": {
        "id": "Oj2ZjmiiehsC"
      },
      "source": [
        "## <font color=\"Red\"> 1.9 函數練習</font>\n",
        "<font color=\"Red\">撰寫函數 test2(a)，計算傳入串列a中所有值的平均 <p>\n",
        "例如：a=[1, 2, 3, 4]</font>"
      ]
    },
    {
      "cell_type": "code",
      "execution_count": 1,
      "metadata": {
        "id": "DSbF1ZkYehsC",
        "outputId": "8f93ae87-388e-4cc1-ab27-85a03b64002c",
        "colab": {
          "base_uri": "https://localhost:8080/"
        }
      },
      "outputs": [
        {
          "output_type": "stream",
          "name": "stdout",
          "text": [
            "2.5\n"
          ]
        }
      ],
      "source": [
        "#------------------- Code Here ------------------------#\n",
        "def test2(a):\n",
        "    total = 0\n",
        "    for i in a:\n",
        "        total+=i\n",
        "    return total/ len(a)\n",
        "#------------------- Stop Here ------------------------#\n",
        "r = test2([1, 2, 3, 4])\n",
        "print(r)"
      ]
    },
    {
      "cell_type": "markdown",
      "metadata": {
        "id": "7LQfIOWlehsD"
      },
      "source": [
        "# <font color=\"Red\"> 1.10 函數練習</font>\n",
        "<font color=\"Red\">撰寫函數 test3(a)，計算傳入串列a中所有值的平均值(Mean)與變異數(Variance)，再利用串列方式回傳 <p>\n",
        "例如：a=[1, 2, 3, 4]</font>\n",
        "\n",
        "<img src=\"https://images.squarespace-cdn.com/content/v1/533db07de4b0d9f7ba7f1e77/1552186395207-9OQVIKUBI0G3TJPEJJ7R/summary+table+of+mean%2C+variance%2C+and+standard+deviation+formulas?format=1500w%22\"  width=\"700\">"
      ]
    },
    {
      "cell_type": "code",
      "execution_count": null,
      "metadata": {
        "id": "sZsxjHDrehsD",
        "outputId": "fa787604-ea56-42dc-e312-a2bd69f49acd"
      },
      "outputs": [
        {
          "name": "stdout",
          "output_type": "stream",
          "text": [
            "[2.5, 1.25]\n"
          ]
        }
      ],
      "source": [
        "#------------------- Code Here ------------------------#\n",
        "def test3(a):\n",
        "    mean = sum(a) / len(a)\n",
        "\n",
        "    variance = sum((x - mean) ** 2 for x in a) / len(a)\n",
        "\n",
        "    return [mean, variance]\n",
        "#------------------- Stop Here ------------------------#\n",
        "ans = test3([1, 2, 3, 4])\n",
        "print(ans)"
      ]
    },
    {
      "cell_type": "markdown",
      "metadata": {
        "id": "2HE5zypcehsD"
      },
      "source": [
        "## <font color=\"Red\"> 1.11 設計一個程式，輸入一個整數n，並在函式calSquare中計算1到n之間所有數字的平方和。¶"
      ]
    },
    {
      "cell_type": "code",
      "execution_count": null,
      "metadata": {
        "id": "W8godBBIehsD",
        "outputId": "73ddc08b-6dd7-407a-e355-7702894eb2b2"
      },
      "outputs": [
        {
          "name": "stdout",
          "output_type": "stream",
          "text": [
            "請輸入一個數字15\n",
            "1到n之間所有數字平方和為1240\n"
          ]
        }
      ],
      "source": [
        "#------------------- Code Here ------------------------#\n",
        "def calSquare(a):\n",
        "    sum = 0;\n",
        "    for i in range(a+1):\n",
        "        sum += i*i\n",
        "    return sum\n",
        "#------------------- Code Here ------------------------#\n",
        "number = int(input(\"請輸入一個數字\"))\n",
        "cal_number = calSquare(number)\n",
        "print(\"1到n之間所有數字平方和為\"+str(cal_number))"
      ]
    },
    {
      "cell_type": "markdown",
      "metadata": {
        "id": "IRfRVKuiehsD"
      },
      "source": [
        "## <font color=\"Red\"> 1.12 設計一個程式，輸入兩個整數a和b，並在函式calSquare5中計算a到b之間5的倍數的平方和。¶"
      ]
    },
    {
      "cell_type": "code",
      "execution_count": null,
      "metadata": {
        "id": "A6Y1RBHeehsD",
        "outputId": "e0b1d5f9-77e9-44d3-a0d0-4bcbb5b7e474"
      },
      "outputs": [
        {
          "name": "stdout",
          "output_type": "stream",
          "text": [
            "請輸入第一個數字3\n",
            "請輸入第二個數字14\n",
            "3到14之間所有數字平方和為125\n"
          ]
        }
      ],
      "source": [
        "#------------------- Code Here ------------------------#\n",
        "def calSquare5(a, b):\n",
        "    sum = 0\n",
        "    for i in range(a, b+1):\n",
        "        if (i%5==0):\n",
        "            sum += i*i\n",
        "    return sum\n",
        "#------------------- Code Here ------------------------#\n",
        "a = int(input(\"請輸入第一個數字\"))\n",
        "b = int(input(\"請輸入第二個數字\"))\n",
        "cal_number = calSquare5(a,b)\n",
        "print(str(a)+\"到\"+str(b)+\"之間所有數字平方和為\"+str(cal_number))"
      ]
    },
    {
      "cell_type": "markdown",
      "metadata": {
        "id": "S5yLvLy9ehsD"
      },
      "source": [
        "## <font color=\"Red\"> 1.13 寫一個程式，輸入一個整數n，並在函式checkPrime中判斷n是不是質數。"
      ]
    },
    {
      "cell_type": "code",
      "execution_count": null,
      "metadata": {
        "id": "jBrjlUtXehsD",
        "outputId": "8d778291-d4ca-4a29-9a30-b20dedb0fd66"
      },
      "outputs": [
        {
          "name": "stdout",
          "output_type": "stream",
          "text": [
            "請輸入一個數字127\n",
            "數字127是質數嗎？Yes\n"
          ]
        }
      ],
      "source": [
        "#------------------- Code Here ------------------------#\n",
        "def checkPrime(n):\n",
        "    if n <= 1:\n",
        "        return \"No\"\n",
        "    for i in range(2, int(n ** 0.5) + 1):\n",
        "        if n % i == 0:\n",
        "            return \"No\"\n",
        "    return \"Yes\"\n",
        "#------------------- Code Here ------------------------#\n",
        "number = int(input(\"請輸入一個數字\"))\n",
        "isPrime = checkPrime(number)\n",
        "print(\"數字\"+str(number)+\"是質數嗎？\"+isPrime)\n"
      ]
    }
  ],
  "metadata": {
    "kernelspec": {
      "display_name": "Python 3 (ipykernel)",
      "language": "python",
      "name": "python3"
    },
    "language_info": {
      "codemirror_mode": {
        "name": "ipython",
        "version": 3
      },
      "file_extension": ".py",
      "mimetype": "text/x-python",
      "name": "python",
      "nbconvert_exporter": "python",
      "pygments_lexer": "ipython3",
      "version": "3.10.9"
    },
    "colab": {
      "provenance": []
    }
  },
  "nbformat": 4,
  "nbformat_minor": 0
}